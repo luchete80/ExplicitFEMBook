{
 "cells": [
  {
   "cell_type": "markdown",
   "id": "b956bf17-b605-4ae8-8f64-5254a9b84769",
   "metadata": {},
   "source": [
    "Lets begin with some definitions"
   ]
  },
  {
   "cell_type": "markdown",
   "id": "b08fdbdb-9784-4981-b9cf-bf2e499b3c6b",
   "metadata": {},
   "source": [
    "$$\n",
    "J(r,s) = \\frac{\\partial x}{\\partial(r,s)} = \\frac{\\partial N}{\\partial(r,s)} X_N\n",
    "$$"
   ]
  },
  {
   "cell_type": "markdown",
   "id": "53ac0cd9-90f4-431f-9338-4a78be7a332c",
   "metadata": {},
   "source": [
    "being $X_N$ the nodal coordinates , the current position and X the reference position"
   ]
  },
  {
   "cell_type": "code",
   "execution_count": 13,
   "id": "eccc68b5-c7e6-4a74-abf2-d129d4e68485",
   "metadata": {},
   "outputs": [],
   "source": [
    "import numpy as np"
   ]
  },
  {
   "cell_type": "code",
   "execution_count": 6,
   "id": "f612005e-9145-4196-8970-4b503bfc42cf",
   "metadata": {},
   "outputs": [],
   "source": [
    "# Define material properties\n",
    "E = 200e9  # Young's modulus in Pa\n",
    "nu = 0.3   # Poisson's ratio\n",
    "\n",
    "# Define element properties\n",
    "num_nodes_element = 4  # Number of nodes per element\n",
    "element_length = 1.0   # Length of the element\n",
    "\n",
    "# Define shape functions and their derivatives for 2D quadrilateral element\n",
    "def shape_functions(xi, eta):\n",
    "    N = np.array([(1-xi)*(1-eta)/4,\n",
    "                  (1+xi)*(1-eta)/4,\n",
    "                  (1+xi)*(1+eta)/4,\n",
    "                  (1-xi)*(1+eta)/4])\n",
    "    dN_dxi = np.array([-(1-eta)/4, (1-eta)/4, (1+eta)/4, -(1+eta)/4])\n",
    "    dN_deta = np.array([-(1-xi)/4, -(1+xi)/4, (1+xi)/4, (1-xi)/4])\n",
    "    return N, dN_dxi, dN_deta\n",
    "\n",
    "# Define material matrix for plane stress\n",
    "def material_matrix():\n",
    "    C = E / (1 - nu**2) * np.array([[1, nu, 0],\n",
    "                                     [nu, 1, 0],\n",
    "                                     [0, 0, (1 - nu) / 2]])\n",
    "    return C\n",
    "\n",
    "# Gauss quadrature points and weights\n",
    "gauss_points = np.array([[-0.577350269, -0.577350269],\n",
    "                         [ 0.577350269, -0.577350269],\n",
    "                         [ 0.577350269,  0.577350269],\n",
    "                         [-0.577350269,  0.577350269]])\n",
    "gauss_weights = np.array([1, 1, 1, 1])"
   ]
  },
  {
   "cell_type": "code",
   "execution_count": 25,
   "id": "fc23b86a-f6bd-46fa-ac0c-89f6d15055aa",
   "metadata": {},
   "outputs": [],
   "source": [
    "# Finite element strain rate calculation\n",
    "def calculate_strain_rate(velocities):\n",
    "    strain_rate = np.zeros((3, 3))\n",
    "    for gp in range(len(gauss_points)):\n",
    "        xi, eta = gauss_points[gp]\n",
    "        weight = gauss_weights[gp]\n",
    "        N, dN_dxi, dN_deta = shape_functions(xi, eta)\n",
    "        J = np.dot(np.array([dN_dxi, dN_deta]), velocities)\n",
    "        detJ = np.linalg.det(J)\n",
    "        invJ = np.linalg.inv(J)\n",
    "        B = np.zeros((3, 8))\n",
    "        for i in range(num_nodes_element):\n",
    "            B[0, 2*i] = dN_dxi[i]\n",
    "            B[1, 2*i+1] = dN_deta[i]\n",
    "            B[2, 2*i] = dN_deta[i]\n",
    "            B[2, 2*i+1] = dN_dxi[i]\n",
    "        #strain_rate += np.dot(B.T, np.dot(invJ.T, np.dot(B, velocities))) * detJ * weight\n",
    "        print (\"Jacobian\", J)\n",
    "    strain_rate *= 0.5\n",
    "    return strain_rate"
   ]
  },
  {
   "cell_type": "markdown",
   "id": "b3c52a00-b110-4dc8-896b-e8f07f896f1a",
   "metadata": {},
   "source": [
    "Now use it "
   ]
  },
  {
   "cell_type": "code",
   "execution_count": 27,
   "id": "6b2d2ab2-e8b4-4c6b-b4bc-d59294ebcbea",
   "metadata": {},
   "outputs": [
    {
     "name": "stdout",
     "output_type": "stream",
     "text": [
      "Jacobian [[5.00000000e-01 0.00000000e+00]\n",
      " [5.55111512e-17 5.00000000e-01]]\n",
      "Jacobian [[5.00000000e-01 0.00000000e+00]\n",
      " [2.77555756e-17 5.00000000e-01]]\n",
      "Jacobian [[5.00000000e-01 0.00000000e+00]\n",
      " [2.77555756e-17 5.00000000e-01]]\n",
      "Jacobian [[5.00000000e-01 0.00000000e+00]\n",
      " [5.55111512e-17 5.00000000e-01]]\n",
      "Strain rate:\n",
      "[[0. 0. 0.]\n",
      " [0. 0. 0.]\n",
      " [0. 0. 0.]]\n"
     ]
    }
   ],
   "source": [
    "# Example usage\n",
    "x    =  np.array([[0., 0.], [0.1, 0.], [0., 0.1], [0.1, 0.1]])\n",
    "velocities = np.array([[1, 0], [2, 0], [2, 1], [1, 1]])  # Example velocities at nodes\n",
    "strain_rate = calculate_strain_rate(velocities)\n",
    "print(\"Strain rate:\")\n",
    "print(strain_rate)"
   ]
  },
  {
   "cell_type": "code",
   "execution_count": null,
   "id": "c134f107-f4c2-44c1-a09c-929915bf4fb7",
   "metadata": {},
   "outputs": [],
   "source": []
  }
 ],
 "metadata": {
  "kernelspec": {
   "display_name": "Python 3 (ipykernel)",
   "language": "python",
   "name": "python3"
  },
  "language_info": {
   "codemirror_mode": {
    "name": "ipython",
    "version": 3
   },
   "file_extension": ".py",
   "mimetype": "text/x-python",
   "name": "python",
   "nbconvert_exporter": "python",
   "pygments_lexer": "ipython3",
   "version": "3.11.3"
  }
 },
 "nbformat": 4,
 "nbformat_minor": 5
}
