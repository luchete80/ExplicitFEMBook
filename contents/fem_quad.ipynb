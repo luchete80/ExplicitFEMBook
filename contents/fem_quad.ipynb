{
 "cells": [
  {
   "cell_type": "markdown",
   "id": "b956bf17-b605-4ae8-8f64-5254a9b84769",
   "metadata": {},
   "source": [
    "# Jacobian"
   ]
  },
  {
   "cell_type": "markdown",
   "id": "59964f5f-e97b-49e4-822c-15d3bbde4fb5",
   "metadata": {},
   "source": [
    "Lets begin with some definitions"
   ]
  },
  {
   "cell_type": "markdown",
   "id": "b08fdbdb-9784-4981-b9cf-bf2e499b3c6b",
   "metadata": {},
   "source": [
    "$$\n",
    "J_{IK} = \\frac{\\partial x}{\\partial(rs)} = \\frac{\\partial N_i}{\\partial(\\eta_K)} X_iI\n",
    "$$"
   ]
  },
  {
   "cell_type": "markdown",
   "id": "53ac0cd9-90f4-431f-9338-4a78be7a332c",
   "metadata": {},
   "source": [
    "being $X_iI$ the nodal coordinates in the $I$ dimension, the current position and X the reference position, with $i$ in sum"
   ]
  },
  {
   "cell_type": "code",
   "execution_count": 16,
   "id": "eccc68b5-c7e6-4a74-abf2-d129d4e68485",
   "metadata": {},
   "outputs": [],
   "source": [
    "import numpy as np"
   ]
  },
  {
   "cell_type": "code",
   "execution_count": 17,
   "id": "f612005e-9145-4196-8970-4b503bfc42cf",
   "metadata": {},
   "outputs": [],
   "source": [
    "import numpy as np\n",
    "# Define material properties\n",
    "E = 200e9  # Young's modulus in Pa\n",
    "nu = 0.3   # Poisson's ratio\n",
    "m_dim = 2\n",
    "m_nodxelem = 4\n",
    "# Define element properties\n",
    "num_nodes_element = 4  # Number of nodes per element\n",
    "element_length = 1.0   # Length of the element\n",
    "\n",
    "dNdX = np.zeros((m_dim, m_nodxelem)) \n",
    "# Define shape functions and their derivatives for 2D quadrilateral element\n",
    "def shape_functions(xi, eta):\n",
    "    N = np.array([(1-xi)*(1-eta)/4,\n",
    "                  (1+xi)*(1-eta)/4,\n",
    "                  (1+xi)*(1+eta)/4,\n",
    "                  (1-xi)*(1+eta)/4])\n",
    "    dNdX[0,:] = np.array([-(1-eta)/4, (1-eta)/4, (1+eta)/4, -(1+eta)/4])\n",
    "    dNdX[1,:] = np.array([-(1-xi)/4, -(1+xi)/4, (1+xi)/4, (1-xi)/4])\n",
    "    return N, dNdX\n",
    "    print(dNdX)\n",
    "# Define material matrix for plane stress\n",
    "def material_matrix():\n",
    "    C = E / (1 - nu**2) * np.array([[1, nu, 0],\n",
    "                                     [nu, 1, 0],\n",
    "                                     [0, 0, (1 - nu) / 2]])\n",
    "    return C\n",
    "\n",
    "# Gauss quadrature points and weights\n",
    "gauss_points = np.array([[-0.577350269, -0.577350269],\n",
    "                         [ 0.577350269, -0.577350269],\n",
    "                         [ 0.577350269,  0.577350269],\n",
    "                         [-0.577350269,  0.577350269]])\n",
    "gauss_weights = np.array([1, 1, 1, 1])\n",
    "\n",
    "gp_count = len(gauss_points)"
   ]
  },
  {
   "cell_type": "markdown",
   "id": "92d4ba7d-f6f7-4e4b-b65c-5a5575a0485b",
   "metadata": {},
   "source": [
    "In case of elasticity, we can define $ B^T C B$"
   ]
  },
  {
   "cell_type": "code",
   "execution_count": 18,
   "id": "9047182f-65e0-4474-b77f-8b6dea39542b",
   "metadata": {},
   "outputs": [],
   "source": [
    "# Finite element strain rate calculation\n",
    "def calculate_jacobian(velocities):\n",
    "    strain_rate = np.zeros((3, 3))\n",
    "    J = np.zeros((gp_count, 2, 2))\n",
    "    for gp in range(len(gauss_points)):\n",
    "        xi, eta = gauss_points[gp]\n",
    "        weight = gauss_weights[gp]\n",
    "        N, dN_dX = shape_functions(xi, eta)\n",
    "        J[gp] = np.dot(dNdX, velocities)\n",
    "        detJ = np.linalg.det(J[gp])\n",
    "        invJ = np.linalg.inv(J[gp])\n",
    "    return J\n"
   ]
  },
  {
   "cell_type": "code",
   "execution_count": 19,
   "id": "2f4347d2-f7bd-4e15-8ce4-38640041023b",
   "metadata": {},
   "outputs": [],
   "source": [
    "# Finite element strain rate calculation\n",
    "def calculate_jacobian(velocities):\n",
    "    strain_rate = np.zeros((3, 3))\n",
    "    J = np.zeros((gp_count, 2, 2))\n",
    "    for gp in range(len(gauss_points)):\n",
    "        xi, eta = gauss_points[gp]\n",
    "        weight = gauss_weights[gp]\n",
    "        N, dN_dX = shape_functions(xi, eta)\n",
    "        J[gp] = np.dot(dNdX, velocities)\n",
    "        detJ = np.linalg.det(J[gp])\n",
    "        invJ = np.linalg.inv(J[gp])\n",
    "    return J\n"
   ]
  },
  {
   "cell_type": "code",
   "execution_count": null,
   "id": "fc23b86a-f6bd-46fa-ac0c-89f6d15055aa",
   "metadata": {},
   "outputs": [],
   "source": []
  },
  {
   "cell_type": "markdown",
   "id": "b3c52a00-b110-4dc8-896b-e8f07f896f1a",
   "metadata": {},
   "source": [
    "Now use it "
   ]
  },
  {
   "cell_type": "code",
   "execution_count": 20,
   "id": "6b2d2ab2-e8b4-4c6b-b4bc-d59294ebcbea",
   "metadata": {},
   "outputs": [
    {
     "name": "stdout",
     "output_type": "stream",
     "text": [
      "Jacobian [[5.00000000e-01 0.00000000e+00]\n",
      " [5.55111512e-17 5.00000000e-01]]\n",
      "Jacobian [[5.00000000e-01 0.00000000e+00]\n",
      " [2.77555756e-17 5.00000000e-01]]\n",
      "Jacobian [[5.00000000e-01 0.00000000e+00]\n",
      " [2.77555756e-17 5.00000000e-01]]\n",
      "Jacobian [[5.00000000e-01 0.00000000e+00]\n",
      " [5.55111512e-17 5.00000000e-01]]\n",
      "Strain rate:\n",
      "[[0. 0. 0.]\n",
      " [0. 0. 0.]\n",
      " [0. 0. 0.]]\n"
     ]
    }
   ],
   "source": [
    "# Example usage\n",
    "x    =  np.array([[0., 0.], [0.1, 0.], [0., 0.1], [0.1, 0.1]])\n",
    "velocities = np.array([[1, 0], [2, 0], [2, 1], [1, 1]])  # Example velocities at nodes\n",
    "strain_rate = calculate_strain_rate(velocities)\n",
    "print(\"Strain rate:\")\n",
    "print(strain_rate)"
   ]
  },
  {
   "cell_type": "markdown",
   "id": "0e652dc1-05e4-4563-bfff-827308fd2de2",
   "metadata": {},
   "source": [
    "## Velocity Gradient and Strain Rate\n",
    "Velocity gradient tensor is defined as:\n",
    "$$ \\nabla v = \\frac{dv_I}{dx_J}$$\n",
    "Due shape function gradients are calculated as gauss points, \n",
    "We can express this as \n",
    "$$ \\nabla v_{IJ}  = \\frac{dN_k}{dX_J} X_{kI} $$\n",
    "This means that, for each dimension, "
   ]
  },
  {
   "cell_type": "code",
   "execution_count": 21,
   "id": "351e206e-dfbb-4070-bc81-85b098703625",
   "metadata": {},
   "outputs": [],
   "source": [
    "# Define nodal velocities (dummy data for demonstration)\n",
    "vel = np.full(m_dim * m_nodxelem, 0.1)\n",
    "vel[5] = vel[7] = -1.0\n",
    "\n",
    "def velocity_gradient_tensor(dNdX, vel):\n",
    "    grad_v = np.zeros((m_dim, m_dim))\n",
    "    for I in range(m_dim): \n",
    "        for J in range(m_dim):\n",
    "            for k in range(m_nodxelem): \n",
    "                grad_v[I, J] += dNdX[I, k] * vel[k * m_dim + I]\n",
    "    return grad_v"
   ]
  },
  {
   "cell_type": "code",
   "execution_count": 24,
   "id": "6c27e62f-8b49-4840-bc36-717b15fdb231",
   "metadata": {},
   "outputs": [
    {
     "name": "stdout",
     "output_type": "stream",
     "text": [
      "[[ 0.    0.  ]\n",
      " [-0.55 -0.55]]\n"
     ]
    }
   ],
   "source": [
    "\n",
    "grad_v = velocity_gradient_tensor(dNdX, vel)\n",
    "print(grad_v)\n"
   ]
  },
  {
   "cell_type": "code",
   "execution_count": null,
   "id": "513d0296-d799-4bf2-baa2-2bc2465ea3ed",
   "metadata": {},
   "outputs": [],
   "source": [
    "def calculate_strain_rate(grad_v);\n",
    "    str_rate = 0.5 *(grad_v + grad_v.T)"
   ]
  },
  {
   "cell_type": "code",
   "execution_count": null,
   "id": "43b242bd-9345-422a-8434-d57f377d72ab",
   "metadata": {},
   "outputs": [],
   "source": [
    "# Finite element strain rate calculation\n",
    "def calculate_strain_rate(velocities):\n",
    "    strain_rate = np.zeros((3, 3))\n",
    "    J = np.zeros((gp_count, 2, 2))\n",
    "    for gp in range(len(gauss_points)):\n",
    "        J = calculate_jacobian(velocities)\n",
    "        xi, eta = gauss_points[gp]\n",
    "        weight = gauss_weights[gp]\n",
    "        N, dNdX = shape_functions(xi, eta)\n",
    "        J[gp] = np.dot(dNdX, velocities)\n",
    "        detJ = np.linalg.det(J[gp])\n",
    "        invJ = np.linalg.inv(J[gp])\n",
    "        B = np.zeros((3, 8))\n",
    "        for i in range(num_nodes_element):\n",
    "            B[0, 2*i] = dNdX[0,i]\n",
    "            B[1, 2*i+1] = dNdX[1,i]\n",
    "            B[2, 2*i] = dNdX[1,i]\n",
    "            B[2, 2*i+1] = dNdX[0,i]\n",
    "        C = material_matrix()\n",
    "        #strain_rate += np.dot(B.T, np.dot(invJ.T, np.dot(B, C))) * detJ * weight\n",
    "        print (\"Jacobian\", J[gp])\n",
    "    strain_rate *= 0.5\n",
    "    return strain_rate"
   ]
  }
 ],
 "metadata": {
  "kernelspec": {
   "display_name": "Python 3 (ipykernel)",
   "language": "python",
   "name": "python3"
  },
  "language_info": {
   "codemirror_mode": {
    "name": "ipython",
    "version": 3
   },
   "file_extension": ".py",
   "mimetype": "text/x-python",
   "name": "python",
   "nbconvert_exporter": "python",
   "pygments_lexer": "ipython3",
   "version": "3.11.3"
  }
 },
 "nbformat": 4,
 "nbformat_minor": 5
}
