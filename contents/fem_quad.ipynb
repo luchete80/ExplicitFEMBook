{
 "cells": [
  {
   "cell_type": "markdown",
   "id": "b956bf17-b605-4ae8-8f64-5254a9b84769",
   "metadata": {},
   "source": [
    "# Jacobian"
   ]
  },
  {
   "cell_type": "markdown",
   "id": "59964f5f-e97b-49e4-822c-15d3bbde4fb5",
   "metadata": {},
   "source": [
    "Lets begin with some definitions"
   ]
  },
  {
   "cell_type": "markdown",
   "id": "b08fdbdb-9784-4981-b9cf-bf2e499b3c6b",
   "metadata": {},
   "source": [
    "$$\n",
    "J_{IK} = \\frac{\\partial x}{\\partial(rs)} = \\frac{\\partial N_i}{\\partial\\eta_K} X_{iI}\n",
    "$$"
   ]
  },
  {
   "cell_type": "markdown",
   "id": "53ac0cd9-90f4-431f-9338-4a78be7a332c",
   "metadata": {},
   "source": [
    "being $X_iI$ the nodal coordinates in the $I$ dimension, the current position and X the reference position, with $i$ in sum"
   ]
  },
  {
   "cell_type": "code",
   "execution_count": 48,
   "id": "eccc68b5-c7e6-4a74-abf2-d129d4e68485",
   "metadata": {},
   "outputs": [],
   "source": [
    "import numpy as np"
   ]
  },
  {
   "cell_type": "code",
   "execution_count": 3,
   "id": "f612005e-9145-4196-8970-4b503bfc42cf",
   "metadata": {},
   "outputs": [],
   "source": [
    "import numpy as np\n",
    "# Define material properties\n",
    "E = 200e9  # Young's modulus in Pa\n",
    "nu = 0.3   # Poisson's ratio\n",
    "m_dim = 2\n",
    "m_nodxelem = 4\n",
    "# Define element properties\n",
    "num_nodes_element = 4  # Number of nodes per element\n",
    "element_length = 1.0   # Length of the element\n",
    "m_gp_count = 4\n",
    "\n",
    "dNdX = np.zeros((m_gp_count, m_dim, m_nodxelem)) \n",
    "dNdrs = np.zeros((m_gp_count, m_dim, m_nodxelem)) \n",
    "# Define shape functions and their derivatives for 2D quadrilateral element\n",
    "def shape_functions(xi, eta):\n",
    "    dNdX_ = np.zeros((m_dim, m_nodxelem))\n",
    "    N = np.array([(1-xi)*(1-eta)/4,\n",
    "                  (1+xi)*(1-eta)/4,\n",
    "                  (1+xi)*(1+eta)/4,\n",
    "                  (1-xi)*(1+eta)/4])\n",
    "    dNdX_[0,:] = np.array([-(1-eta)/4, (1-eta)/4, (1+eta)/4, -(1+eta)/4])\n",
    "    dNdX_[1,:] = np.array([-(1-xi)/4, -(1+xi)/4, (1+xi)/4, (1-xi)/4])\n",
    "    return N, dNdX_\n",
    "    print(dNdX)\n",
    "# Gauss quadrature points and weights\n",
    "gauss_points = np.array([[-0.577350269, -0.577350269],\n",
    "                         [ 0.577350269, -0.577350269],\n",
    "                         [ 0.577350269,  0.577350269],\n",
    "                         [-0.577350269,  0.577350269]])\n",
    "\n",
    "gauss_weights = np.array([1, 1, 1, 1])\n",
    "\n",
    "gp_count = len(gauss_points)"
   ]
  },
  {
   "cell_type": "markdown",
   "id": "92d4ba7d-f6f7-4e4b-b65c-5a5575a0485b",
   "metadata": {},
   "source": [
    "In case of elasticity, we can define $ B^T C B$"
   ]
  },
  {
   "cell_type": "code",
   "execution_count": 4,
   "id": "556e769b-27f3-4c2b-b1c9-6aa43a270230",
   "metadata": {},
   "outputs": [],
   "source": [
    "for gp in range(len(gauss_points)):\n",
    "    xi, eta = gauss_points[gp]\n",
    "    N, dNdrs[gp] = shape_functions(xi, eta)"
   ]
  },
  {
   "cell_type": "code",
   "execution_count": 5,
   "id": "2f4347d2-f7bd-4e15-8ce4-38640041023b",
   "metadata": {},
   "outputs": [],
   "source": [
    "# Finite element strain rate calculation\n",
    "def calculate_jacobian(pos):\n",
    "    J = np.zeros((gp_count, 2, 2))\n",
    "    for gp in range(len(gauss_points)):\n",
    "        xi, eta = gauss_points[gp]\n",
    "        weight = gauss_weights[gp]\n",
    "        N, dNdrs[gp] = shape_functions(xi, eta)\n",
    "        J[gp] = np.dot(dNdrs[gp], pos)\n",
    "        detJ = np.linalg.det(J[gp])\n",
    "        print(\"det J\\n\", detJ)\n",
    "        invJ = np.linalg.inv(J[gp])\n",
    "        print (\"invJ\", invJ)\n",
    "        dNdX[gp] = np.dot(invJ,dNdrs[gp])\n",
    "    return J\n"
   ]
  },
  {
   "cell_type": "code",
   "execution_count": null,
   "id": "fc23b86a-f6bd-46fa-ac0c-89f6d15055aa",
   "metadata": {},
   "outputs": [],
   "source": []
  },
  {
   "cell_type": "markdown",
   "id": "b3c52a00-b110-4dc8-896b-e8f07f896f1a",
   "metadata": {},
   "source": [
    "Now use it "
   ]
  },
  {
   "cell_type": "code",
   "execution_count": 6,
   "id": "6b2d2ab2-e8b4-4c6b-b4bc-d59294ebcbea",
   "metadata": {},
   "outputs": [
    {
     "name": "stdout",
     "output_type": "stream",
     "text": [
      "det J\n",
      " 0.0025000000000000005\n",
      "invJ [[ 2.00000000e+01 -4.29380248e-17]\n",
      " [ 4.29380248e-17  2.00000000e+01]]\n",
      "det J\n",
      " 0.0025000000000000005\n",
      "invJ [[ 2.00000000e+01 -4.29380248e-17]\n",
      " [ 2.34617731e-16  2.00000000e+01]]\n",
      "det J\n",
      " 0.0025000000000000005\n",
      "invJ [[ 2.00000000e+01 -2.34617731e-16]\n",
      " [ 2.34617731e-16  2.00000000e+01]]\n",
      "det J\n",
      " 0.0025000000000000005\n",
      "invJ [[ 2.00000000e+01 -2.34617731e-16]\n",
      " [ 4.29380248e-17  2.00000000e+01]]\n",
      "Jacobian\n",
      " [[ 5.00000000e-02  1.07345062e-19]\n",
      " [-1.07345062e-19  5.00000000e-02]]\n"
     ]
    }
   ],
   "source": [
    "# Example usage\n",
    "x    =  np.array([[0., 0.], [0.1, 0.], [0.1, 0.1], [0., 0.1]])\n",
    "velocities = np.array([[0, 0], [0, 0], [0, -1], [0, -1]])  # Example velocities at nodes\n",
    "#strain_rate = calculate_strain_rate(velocities)\n",
    "J = calculate_jacobian(x)\n",
    "print (\"Jacobian\\n\", J[0])"
   ]
  },
  {
   "cell_type": "markdown",
   "id": "0e652dc1-05e4-4563-bfff-827308fd2de2",
   "metadata": {},
   "source": [
    "## Velocity Gradient and Strain Rate\n",
    "Velocity gradient tensor is defined as:"
   ]
  },
  {
   "cell_type": "markdown",
   "id": "fa13e841-3d98-4adf-944a-eda9bf767ce1",
   "metadata": {},
   "source": [
    "$$\n",
    "\\nabla v = \\frac{dv_I}{dx_J}\n",
    "$$"
   ]
  },
  {
   "cell_type": "markdown",
   "id": "bc18aaae-a99e-4539-af9b-21f5bfa86daa",
   "metadata": {},
   "source": [
    "Due shape function gradients are calculated as gauss points, \n",
    "We can express this as <br>\n",
    "$ \n",
    "\\nabla v_{IJ}  = \\frac{dN_k}{dX_J} V_{kI} \n",
    "$\n",
    "<br>\n",
    "This means that, for each dimension, "
   ]
  },
  {
   "cell_type": "code",
   "execution_count": 7,
   "id": "351e206e-dfbb-4070-bc81-85b098703625",
   "metadata": {},
   "outputs": [],
   "source": [
    "# Define nodal velocities (dummy data for demonstration)\n",
    "vel = np.full(m_dim * m_nodxelem, 0.1)\n",
    "vel[5] = vel[7] = -1.0\n",
    "\n",
    "def velocity_gradient_tensor(dNdX, vel):\n",
    "    grad_v = np.zeros((m_gp_count,m_dim, m_dim))\n",
    "    for gp in range (m_gp_count):\n",
    "        for I in range(m_dim): \n",
    "            for J in range(m_dim):\n",
    "                for k in range(m_nodxelem): \n",
    "                    #grad_v[gp,I, J] += dNdX[gp, J, k] * vel[k * m_dim + I]\n",
    "                    grad_v[gp,I, J] += dNdX[gp, J, k] * vel[k, I]\n",
    "    return grad_v"
   ]
  },
  {
   "cell_type": "code",
   "execution_count": 11,
   "id": "6c27e62f-8b49-4840-bc36-717b15fdb231",
   "metadata": {},
   "outputs": [
    {
     "name": "stdout",
     "output_type": "stream",
     "text": [
      "Velocity gradients\n",
      " [[  0.   0.]\n",
      " [  0. -10.]]\n",
      "Velocity gradients\n",
      " [[  0.   0.]\n",
      " [  0. -10.]]\n",
      "Velocity gradients\n",
      " [[  0.   0.]\n",
      " [  0. -10.]]\n",
      "Velocity gradients\n",
      " [[  0.   0.]\n",
      " [  0. -10.]]\n",
      "strain rate:\n",
      " [[[  0.   0.]\n",
      "  [  0. -10.]]\n",
      "\n",
      " [[  0.   0.]\n",
      "  [  0. -10.]]\n",
      "\n",
      " [[  0.   0.]\n",
      "  [  0. -10.]]\n",
      "\n",
      " [[  0.   0.]\n",
      "  [  0. -10.]]]\n",
      "strain rate:\n",
      " [[  0.   0.]\n",
      " [  0. -10.]]\n"
     ]
    }
   ],
   "source": [
    "\n",
    "def calc_str_rate (dNdX,velocities):\n",
    "    str_rate = np.zeros((m_gp_count,m_dim, m_dim))\n",
    "    for gp in range (m_gp_count):\n",
    "        grad_v = velocity_gradient_tensor(dNdX, velocities)\n",
    "        print(\"Velocity gradients\\n\" ,grad_v[0])\n",
    "\n",
    "        str_rate[gp] = 0.5*(grad_v[0]+grad_v[0].T)\n",
    "    print(\"strain rate:\\n\" ,str_rate)\n",
    "    return str_rate\n",
    "str_rate = calc_str_rate (dNdX,velocities)\n",
    "print(\"strain rate:\\n\" ,str_rate[0])"
   ]
  },
  {
   "cell_type": "markdown",
   "id": "1066fb5f-646b-4fe0-b2cd-1b6c192e25ea",
   "metadata": {},
   "source": [
    "Now, how can we compute stresses?\n",
    "We have several ways to do this. One of them is to assume absoute elastic behavior.\n",
    "In any case, we have to compute the incremental displacements from strain rate  "
   ]
  },
  {
   "cell_type": "code",
   "execution_count": 23,
   "id": "43b242bd-9345-422a-8434-d57f377d72ab",
   "metadata": {},
   "outputs": [
    {
     "name": "stdout",
     "output_type": "stream",
     "text": [
      "[[[ 0.      0.    ]\n",
      "  [ 0.     -0.0008]]\n",
      "\n",
      " [[ 0.      0.    ]\n",
      "  [ 0.     -0.0008]]\n",
      "\n",
      " [[ 0.      0.    ]\n",
      "  [ 0.     -0.0008]]\n",
      "\n",
      " [[ 0.      0.    ]\n",
      "  [ 0.     -0.0008]]]\n"
     ]
    }
   ],
   "source": [
    "dt = 8.0e-5\n",
    "stress = np.zeros((m_gp_count,m_dim, m_dim))\n",
    "strain = dt * str_rate\n",
    "print (strain)\n",
    "\n",
    "# Define material matrix for plane stress\n",
    "def material_matrix():\n",
    "    C = E / (1 - nu**2) * np.array([[1, nu, 0],\n",
    "                                     [nu, 1, 0],\n",
    "                                     [0, 0, (1 - nu) / 2]])\n",
    "    return C\n",
    "\n",
    "def calculate_strain(str_rate,dt):\n",
    "    strain = np.zeros((m_gp_count,m_dim, m_dim))\n",
    "    strain = dt * str_rate\n",
    "    return strain\n",
    "    \n",
    "def calculate_stress(str_rate,dt,dNdX):\n",
    "    stress = np.zeros((m_gp_count,m_dim, m_dim))\n",
    "    # strain = np.zeros((m_gp_count,m_dim, m_dim))\n",
    "    # eps[gp] +=  str_rate * dt\n",
    "  # # PLAIN STRESS\n",
    "  # #c = dom%mat_E / (1.0-dom%mat_nu*dom%mat_nu)\n",
    "  \n",
    "  # #!!!! PLAIN STRAIN\n",
    "  # #c = dom%mat_E / ((1.0+dom%mat_nu)*(1.0-2.0*dom%mat_nu))\n",
    "    # for gp in range(len(gauss_points)):\n",
    "        # stress[gp,0,0] = c * ((1.0-nu)*elem%str_inc[gp,0,0] + nu*eps[gp,1,1]\n",
    "        # C = material_matrix()\n",
    "        # stress[gp] = np.dot(C,B)\n",
    "        # #strain_rate += np.dot(B.T, np.dot(invJ.T, np.dot(B, C))) * detJ * weight\n",
    "        # #print (\"Jacobian\", J[gp])\n",
    "    # return stress\n",
    "    \n",
    "# elem%sigma(e,gp,1,1) = c * ((1.0-nu)*elem%str_inc(e,gp,1,1)+dom%mat_nu*elem%str_inc(e,gp,2,2))\n",
    "      # elem%sigma(e,gp,2,2) = elem%sigma(e,gp,2,2) + c * ((1.0-dom%mat_nu)*elem%str_inc(e,gp,2,2)+dom%mat_nu*elem%str_inc(e,gp,1,1))\n",
    "      # elem%sigma(e,gp,1,2) = elem%sigma(e,gp,1,2) + (1.0-2.0*dom%mat_nu) * elem%str_inc(e,gp,1,2)\n",
    "      # elem%sigma(e,gp,2,1) = elem%sigma(e,gp,1,2)\n",
    "    return stress"
   ]
  },
  {
   "cell_type": "code",
   "execution_count": 27,
   "id": "489bf2b0-fd5e-40a3-9503-15f5f568a766",
   "metadata": {},
   "outputs": [
    {
     "name": "stdout",
     "output_type": "stream",
     "text": [
      "strain  [[[ 0.      0.    ]\n",
      "  [ 0.     -0.0008]]\n",
      "\n",
      " [[ 0.      0.    ]\n",
      "  [ 0.     -0.0008]]\n",
      "\n",
      " [[ 0.      0.    ]\n",
      "  [ 0.     -0.0008]]\n",
      "\n",
      " [[ 0.      0.    ]\n",
      "  [ 0.     -0.0008]]]\n"
     ]
    }
   ],
   "source": [
    "strain =  calculate_strain(str_rate,dt)\n",
    "#stress =  calculate_stress(str_rate,dt)\n",
    "print (\"strain \",strain)"
   ]
  },
  {
   "cell_type": "code",
   "execution_count": null,
   "id": "780f7e1f-5a19-4919-b924-4937915887cf",
   "metadata": {},
   "outputs": [],
   "source": [
    "\n",
    "\n",
    "\n",
    "\n",
    "# Finite element strain rate calculation\n",
    "#We can calculate with B matrix\n",
    "def calculate_stress(str_rate,dt,dNdX):\n",
    "    stress = np.zeros((m_gp_count,m_dim, m_dim))\n",
    "    for gp in range(len(gauss_points)):\n",
    "        B = np.zeros((3, 8))\n",
    "        for i in range(num_nodes_element):\n",
    "            B[0, 2*i] = dNdX[gp,0,i]\n",
    "            B[1, 2*i+1] = dNdX[gp,1,i]\n",
    "            B[2, 2*i] = dNdX[gp,1,i]\n",
    "            B[2, 2*i+1] = dNdX[gp,0,i]\n",
    "        C = material_matrix()\n",
    "        stress[gp] = np.dot(C,B)\n",
    "        #strain_rate += np.dot(B.T, np.dot(invJ.T, np.dot(B, C))) * detJ * weight\n",
    "        #print (\"Jacobian\", J[gp])\n",
    "    return stress"
   ]
  }
 ],
 "metadata": {
  "kernelspec": {
   "display_name": "Python 3 (ipykernel)",
   "language": "python",
   "name": "python3"
  },
  "language_info": {
   "codemirror_mode": {
    "name": "ipython",
    "version": 3
   },
   "file_extension": ".py",
   "mimetype": "text/x-python",
   "name": "python",
   "nbconvert_exporter": "python",
   "pygments_lexer": "ipython3",
   "version": "3.11.3"
  }
 },
 "nbformat": 4,
 "nbformat_minor": 5
}
