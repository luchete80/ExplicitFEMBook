{
 "cells": [
  {
   "cell_type": "markdown",
   "id": "b956bf17-b605-4ae8-8f64-5254a9b84769",
   "metadata": {},
   "source": [
    "# Jacobian"
   ]
  },
  {
   "cell_type": "markdown",
   "id": "59964f5f-e97b-49e4-822c-15d3bbde4fb5",
   "metadata": {},
   "source": [
    "Lets begin with some definitions"
   ]
  },
  {
   "cell_type": "markdown",
   "id": "b08fdbdb-9784-4981-b9cf-bf2e499b3c6b",
   "metadata": {},
   "source": [
    "$$\n",
    "J(r,s) = \\frac{\\partial x}{\\partial(r,s)} = \\frac{\\partial N}{\\partial(r,s)} X_N\n",
    "$$"
   ]
  },
  {
   "cell_type": "markdown",
   "id": "53ac0cd9-90f4-431f-9338-4a78be7a332c",
   "metadata": {},
   "source": [
    "being $X_N$ the nodal coordinates , the current position and X the reference position"
   ]
  },
  {
   "cell_type": "code",
   "execution_count": 13,
   "id": "eccc68b5-c7e6-4a74-abf2-d129d4e68485",
   "metadata": {},
   "outputs": [],
   "source": [
    "import numpy as np"
   ]
  },
  {
   "cell_type": "code",
   "execution_count": 1,
   "id": "f612005e-9145-4196-8970-4b503bfc42cf",
   "metadata": {},
   "outputs": [
    {
     "ename": "NameError",
     "evalue": "name 'np' is not defined",
     "output_type": "error",
     "traceback": [
      "\u001b[1;31m---------------------------------------------------------------------------\u001b[0m",
      "\u001b[1;31mNameError\u001b[0m                                 Traceback (most recent call last)",
      "Cell \u001b[1;32mIn[1], line 27\u001b[0m\n\u001b[0;32m     24\u001b[0m     \u001b[38;5;28;01mreturn\u001b[39;00m C\n\u001b[0;32m     26\u001b[0m \u001b[38;5;66;03m# Gauss quadrature points and weights\u001b[39;00m\n\u001b[1;32m---> 27\u001b[0m gauss_points \u001b[38;5;241m=\u001b[39m \u001b[43mnp\u001b[49m\u001b[38;5;241m.\u001b[39marray([[\u001b[38;5;241m-\u001b[39m\u001b[38;5;241m0.577350269\u001b[39m, \u001b[38;5;241m-\u001b[39m\u001b[38;5;241m0.577350269\u001b[39m],\n\u001b[0;32m     28\u001b[0m                          [ \u001b[38;5;241m0.577350269\u001b[39m, \u001b[38;5;241m-\u001b[39m\u001b[38;5;241m0.577350269\u001b[39m],\n\u001b[0;32m     29\u001b[0m                          [ \u001b[38;5;241m0.577350269\u001b[39m,  \u001b[38;5;241m0.577350269\u001b[39m],\n\u001b[0;32m     30\u001b[0m                          [\u001b[38;5;241m-\u001b[39m\u001b[38;5;241m0.577350269\u001b[39m,  \u001b[38;5;241m0.577350269\u001b[39m]])\n\u001b[0;32m     31\u001b[0m gauss_weights \u001b[38;5;241m=\u001b[39m np\u001b[38;5;241m.\u001b[39marray([\u001b[38;5;241m1\u001b[39m, \u001b[38;5;241m1\u001b[39m, \u001b[38;5;241m1\u001b[39m, \u001b[38;5;241m1\u001b[39m])\n\u001b[0;32m     33\u001b[0m gp_count \u001b[38;5;241m=\u001b[39m \u001b[38;5;28mlen\u001b[39m(gauss_points)\n",
      "\u001b[1;31mNameError\u001b[0m: name 'np' is not defined"
     ]
    }
   ],
   "source": [
    "# Define material properties\n",
    "E = 200e9  # Young's modulus in Pa\n",
    "nu = 0.3   # Poisson's ratio\n",
    "\n",
    "# Define element properties\n",
    "num_nodes_element = 4  # Number of nodes per element\n",
    "element_length = 1.0   # Length of the element\n",
    "\n",
    "# Define shape functions and their derivatives for 2D quadrilateral element\n",
    "def shape_functions(xi, eta):\n",
    "    N = np.array([(1-xi)*(1-eta)/4,\n",
    "                  (1+xi)*(1-eta)/4,\n",
    "                  (1+xi)*(1+eta)/4,\n",
    "                  (1-xi)*(1+eta)/4])\n",
    "    dN_dxi = np.array([-(1-eta)/4, (1-eta)/4, (1+eta)/4, -(1+eta)/4])\n",
    "    dN_deta = np.array([-(1-xi)/4, -(1+xi)/4, (1+xi)/4, (1-xi)/4])\n",
    "    return N, dN_dxi, dN_deta\n",
    "\n",
    "# Define material matrix for plane stress\n",
    "def material_matrix():\n",
    "    C = E / (1 - nu**2) * np.array([[1, nu, 0],\n",
    "                                     [nu, 1, 0],\n",
    "                                     [0, 0, (1 - nu) / 2]])\n",
    "    return C\n",
    "\n",
    "# Gauss quadrature points and weights\n",
    "gauss_points = np.array([[-0.577350269, -0.577350269],\n",
    "                         [ 0.577350269, -0.577350269],\n",
    "                         [ 0.577350269,  0.577350269],\n",
    "                         [-0.577350269,  0.577350269]])\n",
    "gauss_weights = np.array([1, 1, 1, 1])\n",
    "\n",
    "gp_count = len(gauss_points)"
   ]
  },
  {
   "cell_type": "markdown",
   "id": "92d4ba7d-f6f7-4e4b-b65c-5a5575a0485b",
   "metadata": {},
   "source": [
    "In case of elasticity, we can define $ B^T C B$"
   ]
  },
  {
   "cell_type": "markdown",
   "id": "0bf61980-bd6a-4519-aa08-952122a5f517",
   "metadata": {},
   "source": [
    "In case of elasticity, we can define $ B^T C B$"
   ]
  },
  {
   "cell_type": "code",
   "execution_count": 50,
   "id": "9047182f-65e0-4474-b77f-8b6dea39542b",
   "metadata": {},
   "outputs": [],
   "source": [
    "# Finite element strain rate calculation\n",
    "def calculate_jacobian(velocities):\n",
    "    strain_rate = np.zeros((3, 3))\n",
    "    J = np.zeros((gp_count, 2, 2))\n",
    "    for gp in range(len(gauss_points)):\n",
    "        xi, eta = gauss_points[gp]\n",
    "        weight = gauss_weights[gp]\n",
    "        N, dN_dxi, dN_deta = shape_functions(xi, eta)\n",
    "        J[gp] = np.dot(np.array([dN_dxi, dN_deta]), velocities)\n",
    "        detJ = np.linalg.det(J[gp])\n",
    "        invJ = np.linalg.inv(J[gp])\n"
   ]
  },
  {
   "cell_type": "code",
   "execution_count": 55,
   "id": "fc23b86a-f6bd-46fa-ac0c-89f6d15055aa",
   "metadata": {},
   "outputs": [],
   "source": [
    "# Finite element strain rate calculation\n",
    "def calculate_strain_rate(velocities):\n",
    "    strain_rate = np.zeros((3, 3))\n",
    "    J = np.zeros((gp_count, 2, 2))\n",
    "    for gp in range(len(gauss_points)):\n",
    "        xi, eta = gauss_points[gp]\n",
    "        weight = gauss_weights[gp]\n",
    "        N, dN_dxi, dN_deta = shape_functions(xi, eta)\n",
    "        J[gp] = np.dot(np.array([dN_dxi, dN_deta]), velocities)\n",
    "        detJ = np.linalg.det(J[gp])\n",
    "        invJ = np.linalg.inv(J[gp])\n",
    "        B = np.zeros((3, 8))\n",
    "        for i in range(num_nodes_element):\n",
    "            B[0, 2*i] = dN_dxi[i]\n",
    "            B[1, 2*i+1] = dN_deta[i]\n",
    "            B[2, 2*i] = dN_deta[i]\n",
    "            B[2, 2*i+1] = dN_dxi[i]\n",
    "        C = material_matrix()\n",
    "        strain_rate += np.dot(B.T, np.dot(invJ.T, np.dot(B, C))) * detJ * weight\n",
    "        print (\"Jacobian\", J[gp])\n",
    "    strain_rate *= 0.5\n",
    "    return strain_rate"
   ]
  },
  {
   "cell_type": "markdown",
   "id": "b3c52a00-b110-4dc8-896b-e8f07f896f1a",
   "metadata": {},
   "source": [
    "Now use it "
   ]
  },
  {
   "cell_type": "code",
   "execution_count": 56,
   "id": "6b2d2ab2-e8b4-4c6b-b4bc-d59294ebcbea",
   "metadata": {},
   "outputs": [
    {
     "ename": "ValueError",
     "evalue": "shapes (2,2) and (8,3) not aligned: 2 (dim 1) != 8 (dim 0)",
     "output_type": "error",
     "traceback": [
      "\u001b[1;31m---------------------------------------------------------------------------\u001b[0m",
      "\u001b[1;31mValueError\u001b[0m                                Traceback (most recent call last)",
      "Cell \u001b[1;32mIn[56], line 4\u001b[0m\n\u001b[0;32m      2\u001b[0m x    \u001b[38;5;241m=\u001b[39m  np\u001b[38;5;241m.\u001b[39marray([[\u001b[38;5;241m0.\u001b[39m, \u001b[38;5;241m0.\u001b[39m], [\u001b[38;5;241m0.1\u001b[39m, \u001b[38;5;241m0.\u001b[39m], [\u001b[38;5;241m0.\u001b[39m, \u001b[38;5;241m0.1\u001b[39m], [\u001b[38;5;241m0.1\u001b[39m, \u001b[38;5;241m0.1\u001b[39m]])\n\u001b[0;32m      3\u001b[0m velocities \u001b[38;5;241m=\u001b[39m np\u001b[38;5;241m.\u001b[39marray([[\u001b[38;5;241m1\u001b[39m, \u001b[38;5;241m0\u001b[39m], [\u001b[38;5;241m2\u001b[39m, \u001b[38;5;241m0\u001b[39m], [\u001b[38;5;241m2\u001b[39m, \u001b[38;5;241m1\u001b[39m], [\u001b[38;5;241m1\u001b[39m, \u001b[38;5;241m1\u001b[39m]])  \u001b[38;5;66;03m# Example velocities at nodes\u001b[39;00m\n\u001b[1;32m----> 4\u001b[0m strain_rate \u001b[38;5;241m=\u001b[39m \u001b[43mcalculate_strain_rate\u001b[49m\u001b[43m(\u001b[49m\u001b[43mvelocities\u001b[49m\u001b[43m)\u001b[49m\n\u001b[0;32m      5\u001b[0m \u001b[38;5;28mprint\u001b[39m(\u001b[38;5;124m\"\u001b[39m\u001b[38;5;124mStrain rate:\u001b[39m\u001b[38;5;124m\"\u001b[39m)\n\u001b[0;32m      6\u001b[0m \u001b[38;5;28mprint\u001b[39m(strain_rate)\n",
      "Cell \u001b[1;32mIn[55], line 19\u001b[0m, in \u001b[0;36mcalculate_strain_rate\u001b[1;34m(velocities)\u001b[0m\n\u001b[0;32m     17\u001b[0m         B[\u001b[38;5;241m2\u001b[39m, \u001b[38;5;241m2\u001b[39m\u001b[38;5;241m*\u001b[39mi\u001b[38;5;241m+\u001b[39m\u001b[38;5;241m1\u001b[39m] \u001b[38;5;241m=\u001b[39m dN_dxi[i]\n\u001b[0;32m     18\u001b[0m     C \u001b[38;5;241m=\u001b[39m material_matrix()\n\u001b[1;32m---> 19\u001b[0m     strain_rate \u001b[38;5;241m+\u001b[39m\u001b[38;5;241m=\u001b[39m np\u001b[38;5;241m.\u001b[39mdot(B\u001b[38;5;241m.\u001b[39mT, \u001b[43mnp\u001b[49m\u001b[38;5;241;43m.\u001b[39;49m\u001b[43mdot\u001b[49m\u001b[43m(\u001b[49m\u001b[43minvJ\u001b[49m\u001b[38;5;241;43m.\u001b[39;49m\u001b[43mT\u001b[49m\u001b[43m,\u001b[49m\u001b[43m \u001b[49m\u001b[43mnp\u001b[49m\u001b[38;5;241;43m.\u001b[39;49m\u001b[43mdot\u001b[49m\u001b[43m(\u001b[49m\u001b[43mB\u001b[49m\u001b[38;5;241;43m.\u001b[39;49m\u001b[43mT\u001b[49m\u001b[43m,\u001b[49m\u001b[43m \u001b[49m\u001b[43mC\u001b[49m\u001b[43m)\u001b[49m\u001b[43m)\u001b[49m) \u001b[38;5;241m*\u001b[39m detJ \u001b[38;5;241m*\u001b[39m weight\n\u001b[0;32m     20\u001b[0m     \u001b[38;5;28mprint\u001b[39m (\u001b[38;5;124m\"\u001b[39m\u001b[38;5;124mJacobian\u001b[39m\u001b[38;5;124m\"\u001b[39m, J[gp])\n\u001b[0;32m     21\u001b[0m strain_rate \u001b[38;5;241m*\u001b[39m\u001b[38;5;241m=\u001b[39m \u001b[38;5;241m0.5\u001b[39m\n",
      "File \u001b[1;32m<__array_function__ internals>:200\u001b[0m, in \u001b[0;36mdot\u001b[1;34m(*args, **kwargs)\u001b[0m\n",
      "\u001b[1;31mValueError\u001b[0m: shapes (2,2) and (8,3) not aligned: 2 (dim 1) != 8 (dim 0)"
     ]
    }
   ],
   "source": [
    "# Example usage\n",
    "x    =  np.array([[0., 0.], [0.1, 0.], [0., 0.1], [0.1, 0.1]])\n",
    "velocities = np.array([[1, 0], [2, 0], [2, 1], [1, 1]])  # Example velocities at nodes\n",
    "strain_rate = calculate_strain_rate(velocities)\n",
    "print(\"Strain rate:\")\n",
    "print(strain_rate)"
   ]
  },
  {
   "cell_type": "code",
   "execution_count": null,
   "id": "c134f107-f4c2-44c1-a09c-929915bf4fb7",
   "metadata": {},
   "outputs": [],
   "source": []
  },
  {
   "cell_type": "code",
   "execution_count": null,
   "id": "4f8399a0-4988-4a05-a530-f7667d00d3ee",
   "metadata": {},
   "outputs": [],
   "source": []
  }
 ],
 "metadata": {
  "kernelspec": {
   "display_name": "Python 3 (ipykernel)",
   "language": "python",
   "name": "python3"
  },
  "language_info": {
   "codemirror_mode": {
    "name": "ipython",
    "version": 3
   },
   "file_extension": ".py",
   "mimetype": "text/x-python",
   "name": "python",
   "nbconvert_exporter": "python",
   "pygments_lexer": "ipython3",
   "version": "3.11.3"
  }
 },
 "nbformat": 4,
 "nbformat_minor": 5
}
